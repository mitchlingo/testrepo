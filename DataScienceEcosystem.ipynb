{
 "cells": [
  {
   "cell_type": "markdown",
   "id": "a3caff24",
   "metadata": {},
   "source": [
    "# Data Science Tools and Ecosystem"
   ]
  },
  {
   "cell_type": "markdown",
   "id": "94bd3927",
   "metadata": {},
   "source": [
    "In this notebook, Data Science Tools and Ecosystem are summarized"
   ]
  },
  {
   "cell_type": "markdown",
   "id": "23f37ed2",
   "metadata": {},
   "source": [
    "### Some popular languages that Data Scientists use are:\n",
    "\n",
    "1. R\n",
    "2. SQL\n",
    "3. Python"
   ]
  },
  {
   "cell_type": "markdown",
   "id": "2f670b30",
   "metadata": {},
   "source": [
    "### Some of the commonly used libraries used by data scientists include:\n",
    "\n",
    "1. TensorFlow\n",
    "2. Pandas\n",
    "3. NumPy\n"
   ]
  },
  {
   "cell_type": "markdown",
   "id": "c79e7625",
   "metadata": {},
   "source": [
    "| Data Science Tools | \n",
    "| ------------------ |\n",
    "| Apache Spark |\n",
    "| MatLab |\n",
    "| SAS |"
   ]
  },
  {
   "cell_type": "markdown",
   "id": "9500fca7",
   "metadata": {},
   "source": [
    "### Below are a few examples of evaluating artihmetic expressions in Python:"
   ]
  },
  {
   "cell_type": "code",
   "execution_count": 1,
   "id": "f43b93e8",
   "metadata": {},
   "outputs": [
    {
     "data": {
      "text/plain": [
       "17"
      ]
     },
     "execution_count": 1,
     "metadata": {},
     "output_type": "execute_result"
    }
   ],
   "source": [
    "(3*4)+5"
   ]
  },
  {
   "cell_type": "code",
   "execution_count": 2,
   "id": "acd65a4f",
   "metadata": {},
   "outputs": [
    {
     "data": {
      "text/plain": [
       "3.3333333333333335"
      ]
     },
     "execution_count": 2,
     "metadata": {},
     "output_type": "execute_result"
    }
   ],
   "source": [
    "#This will convert 200 minutes to hours by diiding by 60\n",
    "200/60"
   ]
  },
  {
   "cell_type": "markdown",
   "id": "3e4fd056",
   "metadata": {},
   "source": [
    "**Objective:**\n",
    "- Learn basic coding and markdown structures in Jupyter\n",
    "- Learn the basic structure of GetHub\n",
    "- Learn the basic structures of R-Studio"
   ]
  },
  {
   "cell_type": "markdown",
   "id": "93b0e3b4",
   "metadata": {},
   "source": [
    "## Author\n",
    "Mitch Lingo\n"
   ]
  },
  {
   "cell_type": "code",
   "execution_count": null,
   "id": "e5822da4",
   "metadata": {},
   "outputs": [],
   "source": []
  }
 ],
 "metadata": {
  "kernelspec": {
   "display_name": "Python 3 (ipykernel)",
   "language": "python",
   "name": "python3"
  },
  "language_info": {
   "codemirror_mode": {
    "name": "ipython",
    "version": 3
   },
   "file_extension": ".py",
   "mimetype": "text/x-python",
   "name": "python",
   "nbconvert_exporter": "python",
   "pygments_lexer": "ipython3",
   "version": "3.11.4"
  }
 },
 "nbformat": 4,
 "nbformat_minor": 5
}
